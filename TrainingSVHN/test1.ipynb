{
 "cells": [
  {
   "cell_type": "code",
   "execution_count": 1,
   "metadata": {},
   "outputs": [
    {
     "ename": "AttributeError",
     "evalue": "module 'keras.api._v2.keras.datasets' has no attribute 'svhn'",
     "output_type": "error",
     "traceback": [
      "\u001b[1;31m---------------------------------------------------------------------------\u001b[0m",
      "\u001b[1;31mAttributeError\u001b[0m                            Traceback (most recent call last)",
      "Cell \u001b[1;32mIn[1], line 5\u001b[0m\n\u001b[0;32m      2\u001b[0m \u001b[39mfrom\u001b[39;00m \u001b[39mtensorflow\u001b[39;00m\u001b[39m.\u001b[39;00m\u001b[39mkeras\u001b[39;00m \u001b[39mimport\u001b[39;00m layers, models\n\u001b[0;32m      4\u001b[0m \u001b[39m# Chuẩn bị dữ liệu SVHN (ví dụ: tải dữ liệu từ TensorFlow Datasets)\u001b[39;00m\n\u001b[1;32m----> 5\u001b[0m (train_images, train_labels), (test_images, test_labels) \u001b[39m=\u001b[39m tf\u001b[39m.\u001b[39;49mkeras\u001b[39m.\u001b[39;49mdatasets\u001b[39m.\u001b[39;49msvhn\u001b[39m.\u001b[39mload_data()\n",
      "\u001b[1;31mAttributeError\u001b[0m: module 'keras.api._v2.keras.datasets' has no attribute 'svhn'"
     ]
    }
   ],
   "source": [
    "import tensorflow as tf\n",
    "from tensorflow.keras import layers, models\n",
    "\n",
    "# Chuẩn bị dữ liệu SVHN (ví dụ: tải dữ liệu từ TensorFlow Datasets)\n",
    "(train_images, train_labels), (test_images, test_labels) = tf.keras.datasets.svhn.load_data()\n"
   ]
  }
 ],
 "metadata": {
  "kernelspec": {
   "display_name": "Python 3",
   "language": "python",
   "name": "python3"
  },
  "language_info": {
   "codemirror_mode": {
    "name": "ipython",
    "version": 3
   },
   "file_extension": ".py",
   "mimetype": "text/x-python",
   "name": "python",
   "nbconvert_exporter": "python",
   "pygments_lexer": "ipython3",
   "version": "3.10.11"
  },
  "orig_nbformat": 4
 },
 "nbformat": 4,
 "nbformat_minor": 2
}
